{
 "cells": [
  {
   "cell_type": "code",
   "execution_count": 1,
   "id": "7129dd2c",
   "metadata": {},
   "outputs": [],
   "source": [
    "from turtle import *\n",
    "from random import randrange\n",
    "from freegames import square,vector\n",
    "\n",
    "\n",
    "food=vector(0,0)\n",
    "snake=[vector(10,0)]\n",
    "aim=vector(0,-10)\n",
    "\n",
    "def change(x,y):\n",
    "    aim.x=y\n",
    "    aim.y=x\n",
    "\n",
    "def inside(head):\n",
    "    return -200<head.x<190 and -200<head.y<190 \n",
    "\n",
    "def move():\n",
    "    head=snake[-1].copy()\n",
    "    head.move(aim)\n",
    "\n",
    "    if not inside(head) or head in snake:\n",
    "        square(head.x,head.y,9,'red')\n",
    "        update()\n",
    "        return\n",
    "\n",
    "    snake.append()\n",
    "\n",
    "    if head==food:\n",
    "        print('snake',len(snake))\n",
    "        food.x=randrange(-15,15)*10\n",
    "        food.y=randrange(-15,15)*10\n",
    "    \n",
    "    else:\n",
    "        snake.pop()\n",
    "    \n",
    "    clear()\n",
    "\n",
    "    for body in snake:\n",
    "        square(body.x,body.y,9,'green')\n",
    "\n",
    "    square(food.x,food.y,9,'red')\n",
    "    update()\n",
    "    ontimer(move,100)\n",
    "\n",
    "    hideturtle()\n",
    "    tracer(False)\n",
    "    listen()\n",
    "    onkey(lambda:changes(10,0),'Right')\n",
    "    onkey(lambda:changes(-10,0),'Left')\n",
    "    onkey(lambda:changes(0,10),'Up')\n",
    "    onkey(lambda:changes(0,-10),'Down')\n",
    "\n",
    "    move()\n",
    "    done()"
   ]
  },
  {
   "cell_type": "code",
   "execution_count": null,
   "id": "eb771281",
   "metadata": {},
   "outputs": [],
   "source": []
  }
 ],
 "metadata": {
  "kernelspec": {
   "display_name": "Python 3 (ipykernel)",
   "language": "python",
   "name": "python3"
  },
  "language_info": {
   "codemirror_mode": {
    "name": "ipython",
    "version": 3
   },
   "file_extension": ".py",
   "mimetype": "text/x-python",
   "name": "python",
   "nbconvert_exporter": "python",
   "pygments_lexer": "ipython3",
   "version": "3.9.6"
  }
 },
 "nbformat": 4,
 "nbformat_minor": 5
}
