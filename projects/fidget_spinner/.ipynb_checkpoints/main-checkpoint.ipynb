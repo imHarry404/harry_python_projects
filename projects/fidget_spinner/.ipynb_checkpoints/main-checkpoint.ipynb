{
 "cells": [
  {
   "cell_type": "code",
   "execution_count": 1,
   "id": "3a4302b1",
   "metadata": {},
   "outputs": [],
   "source": [
    "from turtle import *"
   ]
  },
  {
   "cell_type": "code",
   "execution_count": 2,
   "id": "a3df544d",
   "metadata": {},
   "outputs": [],
   "source": [
    "state={'turn':0}"
   ]
  },
  {
   "cell_type": "code",
   "execution_count": null,
   "id": "26781c72",
   "metadata": {},
   "outputs": [],
   "source": [
    "def spinner():\n",
    "    clear()\n",
    "    angle=state['turn']/10\n",
    "    left(angle)\n",
    "    forward(100)\n",
    "    dot(120,'red')\n",
    "    back(100)\n",
    "    left(120)\n",
    "    forward(100)\n",
    "    dot(120,'blue')\n",
    "    back(100)\n",
    "    left(120)\n",
    "    forward(100)\n",
    "    dot(120,'yellow')\n",
    "    back(100)\n",
    "    left(120)\n",
    "    update()\n",
    "\n",
    "def animate():\n",
    "    if state['turn']>0:\n",
    "        state['turn']-=1\n",
    "    \n",
    "    spinner()\n",
    "    ontime(animate.20)\n",
    "\n",
    "def flick():\n",
    "    state['turn']+=50\n",
    "\n",
    "tracer(False)\n",
    "width(20)\n",
    "onkey(flick,'space')\n",
    "listen()\n",
    "animate()\n",
    "done()\n",
    "    \n",
    "    "
   ]
  }
 ],
 "metadata": {
  "kernelspec": {
   "display_name": "Python 3 (ipykernel)",
   "language": "python",
   "name": "python3"
  },
  "language_info": {
   "codemirror_mode": {
    "name": "ipython",
    "version": 3
   },
   "file_extension": ".py",
   "mimetype": "text/x-python",
   "name": "python",
   "nbconvert_exporter": "python",
   "pygments_lexer": "ipython3",
   "version": "3.9.6"
  }
 },
 "nbformat": 4,
 "nbformat_minor": 5
}
