{
 "cells": [
  {
   "cell_type": "code",
   "execution_count": null,
   "id": "a728184f",
   "metadata": {},
   "outputs": [],
   "source": [
    "import cv2 #importing the library\n",
    "capture =cv2.VideoCapture('test.mp4') #reading the video file\n",
    "\n",
    "if(capture.isOpened()==False): #checking that the file exits or not\n",
    "    print(\"Error opening videos\")\n",
    "\n",
    "while(capture.isOpened()): #when the file is opened\n",
    "\n",
    "    ret,frame=capture.read() #reading the frames\n",
    "    if ret==True:\n",
    "        cv2.imshow(\"Frame\",frame) #showing the frames\n",
    "        if (cv2.waitKey(100) & 0xff) == ord('q'): #waitKey will control the playback speed of the video file\n",
    "            break\n",
    "    else:\n",
    "        break\n",
    "capture.release()\n",
    "cv2.destroyAllWindows() #exiting all the opened windows\n",
    "\n"
   ]
  },
  {
   "cell_type": "code",
   "execution_count": null,
   "id": "2736878c",
   "metadata": {},
   "outputs": [],
   "source": []
  }
 ],
 "metadata": {
  "kernelspec": {
   "display_name": "Python 3 (ipykernel)",
   "language": "python",
   "name": "python3"
  },
  "language_info": {
   "codemirror_mode": {
    "name": "ipython",
    "version": 3
   },
   "file_extension": ".py",
   "mimetype": "text/x-python",
   "name": "python",
   "nbconvert_exporter": "python",
   "pygments_lexer": "ipython3",
   "version": "3.9.6"
  }
 },
 "nbformat": 4,
 "nbformat_minor": 5
}
